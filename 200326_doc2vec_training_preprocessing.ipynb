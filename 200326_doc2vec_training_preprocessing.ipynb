{
  "nbformat": 4,
  "nbformat_minor": 0,
  "metadata": {
    "colab": {
      "name": "200326_doc2vec_training_preprocessing.ipynb",
      "provenance": [],
      "collapsed_sections": [],
      "mount_file_id": "1LYrmaD_r0L6JUvXM2nBJjQZ8FhxTDtix",
      "authorship_tag": "ABX9TyOAC6e8fWznH9ljwGViOyen",
      "include_colab_link": true
    },
    "kernelspec": {
      "name": "python3",
      "display_name": "Python 3"
    },
    "accelerator": "GPU"
  },
  "cells": [
    {
      "cell_type": "markdown",
      "metadata": {
        "id": "view-in-github",
        "colab_type": "text"
      },
      "source": [
        "<a href=\"https://colab.research.google.com/github/ahyz0569/Final-project-practice/blob/colab/200326_doc2vec_training_preprocessing.ipynb\" target=\"_parent\"><img src=\"https://colab.research.google.com/assets/colab-badge.svg\" alt=\"Open In Colab\"/></a>"
      ]
    },
    {
      "cell_type": "markdown",
      "metadata": {
        "id": "tvDFa8ioeTCs",
        "colab_type": "text"
      },
      "source": [
        "## Doc2vec 사용해보기\n",
        "\n",
        "colab에서 doc2vec 모델을 학습시키고 문장 유사도를 확인해보자"
      ]
    },
    {
      "cell_type": "code",
      "metadata": {
        "id": "ix8i-mkkJ6Ie",
        "colab_type": "code",
        "colab": {}
      },
      "source": [
        "# mecab 설치\n",
        "# 출처: https://somjang.tistory.com/entry/Google-Colab에서-Mecab-koMecab-ko-dic-쉽게-사용하기 [솜씨좋은장씨]\n",
        "\n",
        "!git clone https://github.com/SOMJANG/Mecab-ko-for-Google-Colab.git\n",
        "%cd Mecab-ko-for-Google-Colab\n",
        "! bash install_mecab-ko_on_colab190912.sh"
      ],
      "execution_count": 0,
      "outputs": []
    },
    {
      "cell_type": "code",
      "metadata": {
        "id": "kv-ueIH_KhbZ",
        "colab_type": "code",
        "outputId": "e806b466-a349-42ea-d006-8df9918060e6",
        "colab": {
          "base_uri": "https://localhost:8080/",
          "height": 34
        }
      },
      "source": [
        "!pwd"
      ],
      "execution_count": 0,
      "outputs": [
        {
          "output_type": "stream",
          "text": [
            "/content/Mecab-ko-for-Google-Colab\n"
          ],
          "name": "stdout"
        }
      ]
    },
    {
      "cell_type": "markdown",
      "metadata": {
        "id": "mI3y_glNci-t",
        "colab_type": "text"
      },
      "source": [
        "## Library import"
      ]
    },
    {
      "cell_type": "code",
      "metadata": {
        "id": "4tZOVDyhZ5F2",
        "colab_type": "code",
        "colab": {}
      },
      "source": [
        "import gensim\n",
        "import sys\n",
        "import pandas as pd\n",
        "from konlpy.tag import Mecab\n",
        "m = Mecab()\n",
        "import re\n",
        "import os\n",
        "import numpy as np\n",
        "\n",
        "# imports package\n",
        "import nltk\n",
        "from gensim.models.doc2vec import Doc2Vec, TaggedDocument\n",
        "from nltk.tokenize import RegexpTokenizer"
      ],
      "execution_count": 0,
      "outputs": []
    },
    {
      "cell_type": "markdown",
      "metadata": {
        "id": "Ni8tHyHveIYJ",
        "colab_type": "text"
      },
      "source": [
        "## 데이터 로드 및 전처리\n",
        "- 특수 문자 제거(특수기호, 예/ ☆)"
      ]
    },
    {
      "cell_type": "code",
      "metadata": {
        "id": "yxXO3nIzaXTC",
        "colab_type": "code",
        "outputId": "6f08d8a9-fe21-479f-af2d-1e8426d62a60",
        "colab": {
          "base_uri": "https://localhost:8080/",
          "height": 195
        }
      },
      "source": [
        "df=pd.read_csv('/content/drive/My Drive/Final-project/NLP/data/10000recipe_dataframe_for_token.csv',\n",
        "                sep='\\t',\n",
        "                encoding='utf-8')\n",
        "df.head()"
      ],
      "execution_count": 0,
      "outputs": [
        {
          "output_type": "execute_result",
          "data": {
            "text/html": [
              "<div>\n",
              "<style scoped>\n",
              "    .dataframe tbody tr th:only-of-type {\n",
              "        vertical-align: middle;\n",
              "    }\n",
              "\n",
              "    .dataframe tbody tr th {\n",
              "        vertical-align: top;\n",
              "    }\n",
              "\n",
              "    .dataframe thead th {\n",
              "        text-align: right;\n",
              "    }\n",
              "</style>\n",
              "<table border=\"1\" class=\"dataframe\">\n",
              "  <thead>\n",
              "    <tr style=\"text-align: right;\">\n",
              "      <th></th>\n",
              "      <th>id</th>\n",
              "      <th>title</th>\n",
              "      <th>steps</th>\n",
              "    </tr>\n",
              "  </thead>\n",
              "  <tbody>\n",
              "    <tr>\n",
              "      <th>0</th>\n",
              "      <td>6894825</td>\n",
              "      <td>냉장고를부탁해 이연복 전복영양밥만들기 전복과 오징어새우가 들어간 볶음밥에 모닝글로리...</td>\n",
              "      <td>먼저 전복을 물에 넣고는 삶아 줍니다. 전복을 삶은 중간에 오징어와 새우를 넣어서 ...</td>\n",
              "    </tr>\n",
              "    <tr>\n",
              "      <th>1</th>\n",
              "      <td>6894824</td>\n",
              "      <td>목우촌 캠핑요리 베이컨 야채말이</td>\n",
              "      <td>준비해둔 야채를 깨끗이 씻고 깻잎은 절반 대파는 한입크기 파프리카는 채 썰어줍니다 ...</td>\n",
              "    </tr>\n",
              "    <tr>\n",
              "      <th>2</th>\n",
              "      <td>6894823</td>\n",
              "      <td>단호박라떼  전자렌지로 단호박 찌는법</td>\n",
              "      <td>단호박 찌는법 첫번째는 단호박은 반을 자르고 속안에 든 씨를 모두 제거해 줍니다. ...</td>\n",
              "    </tr>\n",
              "    <tr>\n",
              "      <th>3</th>\n",
              "      <td>6894822</td>\n",
              "      <td>풀무원 보글보글 된장찌게 끓이기</td>\n",
              "      <td>풀무원 정통된장을 냄비나 뚝배기에 물을 500ml넣고 끓여주세요.\\\\n(뒷면에 자세...</td>\n",
              "    </tr>\n",
              "    <tr>\n",
              "      <th>4</th>\n",
              "      <td>6894820</td>\n",
              "      <td>미숫가루 만들기</td>\n",
              "      <td>모든잡곡은 고두밥을 지어요 율무쌀은 가장 단단한 잡곡 이예요 불리지않고 밥하는것처럼...</td>\n",
              "    </tr>\n",
              "  </tbody>\n",
              "</table>\n",
              "</div>"
            ],
            "text/plain": [
              "        id  ...                                              steps\n",
              "0  6894825  ...  먼저 전복을 물에 넣고는 삶아 줍니다. 전복을 삶은 중간에 오징어와 새우를 넣어서 ...\n",
              "1  6894824  ...  준비해둔 야채를 깨끗이 씻고 깻잎은 절반 대파는 한입크기 파프리카는 채 썰어줍니다 ...\n",
              "2  6894823  ...  단호박 찌는법 첫번째는 단호박은 반을 자르고 속안에 든 씨를 모두 제거해 줍니다. ...\n",
              "3  6894822  ...  풀무원 정통된장을 냄비나 뚝배기에 물을 500ml넣고 끓여주세요.\\\\n(뒷면에 자세...\n",
              "4  6894820  ...  모든잡곡은 고두밥을 지어요 율무쌀은 가장 단단한 잡곡 이예요 불리지않고 밥하는것처럼...\n",
              "\n",
              "[5 rows x 3 columns]"
            ]
          },
          "metadata": {
            "tags": []
          },
          "execution_count": 4
        }
      ]
    },
    {
      "cell_type": "code",
      "metadata": {
        "id": "R2MItwdXdZ73",
        "colab_type": "code",
        "colab": {}
      },
      "source": [
        "## 특수문자 제거(기호들도 추가)\n",
        "def cleanText(readData):\n",
        "    #텍스트에 포함되어 있는 특수 문자 제거 \n",
        "    text = re.sub('[-=+,#/\\?:^$.@*\\\"※~&%ㆍ!』\\\\‘|\\(\\)\\[\\]\\<\\>`\\'…》☆★♡♥]', '', str(readData))\n",
        "    return text"
      ],
      "execution_count": 0,
      "outputs": []
    },
    {
      "cell_type": "code",
      "metadata": {
        "id": "DxM0SQhWd-kJ",
        "colab_type": "code",
        "colab": {}
      },
      "source": [
        "# title 컬럼 특수문자 제거하기\n",
        "df['title']=df['title'].apply(cleanText)"
      ],
      "execution_count": 0,
      "outputs": []
    },
    {
      "cell_type": "code",
      "metadata": {
        "id": "bSio7rrFeCFs",
        "colab_type": "code",
        "outputId": "fba6a9a4-0f55-45e5-b953-ac0443988fa3",
        "colab": {
          "base_uri": "https://localhost:8080/",
          "height": 195
        }
      },
      "source": [
        "df.head()"
      ],
      "execution_count": 0,
      "outputs": [
        {
          "output_type": "execute_result",
          "data": {
            "text/html": [
              "<div>\n",
              "<style scoped>\n",
              "    .dataframe tbody tr th:only-of-type {\n",
              "        vertical-align: middle;\n",
              "    }\n",
              "\n",
              "    .dataframe tbody tr th {\n",
              "        vertical-align: top;\n",
              "    }\n",
              "\n",
              "    .dataframe thead th {\n",
              "        text-align: right;\n",
              "    }\n",
              "</style>\n",
              "<table border=\"1\" class=\"dataframe\">\n",
              "  <thead>\n",
              "    <tr style=\"text-align: right;\">\n",
              "      <th></th>\n",
              "      <th>id</th>\n",
              "      <th>title</th>\n",
              "      <th>steps</th>\n",
              "    </tr>\n",
              "  </thead>\n",
              "  <tbody>\n",
              "    <tr>\n",
              "      <th>0</th>\n",
              "      <td>6894825</td>\n",
              "      <td>냉장고를부탁해 이연복 전복영양밥만들기 전복과 오징어새우가 들어간 볶음밥에 모닝글로리...</td>\n",
              "      <td>먼저 전복을 물에 넣고는 삶아 줍니다. 전복을 삶은 중간에 오징어와 새우를 넣어서 ...</td>\n",
              "    </tr>\n",
              "    <tr>\n",
              "      <th>1</th>\n",
              "      <td>6894824</td>\n",
              "      <td>목우촌 캠핑요리 베이컨 야채말이</td>\n",
              "      <td>준비해둔 야채를 깨끗이 씻고 깻잎은 절반 대파는 한입크기 파프리카는 채 썰어줍니다 ...</td>\n",
              "    </tr>\n",
              "    <tr>\n",
              "      <th>2</th>\n",
              "      <td>6894823</td>\n",
              "      <td>단호박라떼  전자렌지로 단호박 찌는법</td>\n",
              "      <td>단호박 찌는법 첫번째는 단호박은 반을 자르고 속안에 든 씨를 모두 제거해 줍니다. ...</td>\n",
              "    </tr>\n",
              "    <tr>\n",
              "      <th>3</th>\n",
              "      <td>6894822</td>\n",
              "      <td>풀무원 보글보글 된장찌게 끓이기</td>\n",
              "      <td>풀무원 정통된장을 냄비나 뚝배기에 물을 500ml넣고 끓여주세요.\\\\n(뒷면에 자세...</td>\n",
              "    </tr>\n",
              "    <tr>\n",
              "      <th>4</th>\n",
              "      <td>6894820</td>\n",
              "      <td>미숫가루 만들기</td>\n",
              "      <td>모든잡곡은 고두밥을 지어요 율무쌀은 가장 단단한 잡곡 이예요 불리지않고 밥하는것처럼...</td>\n",
              "    </tr>\n",
              "  </tbody>\n",
              "</table>\n",
              "</div>"
            ],
            "text/plain": [
              "        id  ...                                              steps\n",
              "0  6894825  ...  먼저 전복을 물에 넣고는 삶아 줍니다. 전복을 삶은 중간에 오징어와 새우를 넣어서 ...\n",
              "1  6894824  ...  준비해둔 야채를 깨끗이 씻고 깻잎은 절반 대파는 한입크기 파프리카는 채 썰어줍니다 ...\n",
              "2  6894823  ...  단호박 찌는법 첫번째는 단호박은 반을 자르고 속안에 든 씨를 모두 제거해 줍니다. ...\n",
              "3  6894822  ...  풀무원 정통된장을 냄비나 뚝배기에 물을 500ml넣고 끓여주세요.\\\\n(뒷면에 자세...\n",
              "4  6894820  ...  모든잡곡은 고두밥을 지어요 율무쌀은 가장 단단한 잡곡 이예요 불리지않고 밥하는것처럼...\n",
              "\n",
              "[5 rows x 3 columns]"
            ]
          },
          "metadata": {
            "tags": []
          },
          "execution_count": 7
        }
      ]
    },
    {
      "cell_type": "code",
      "metadata": {
        "id": "vz_DQcLSewbl",
        "colab_type": "code",
        "colab": {}
      },
      "source": [
        "# 특수문자 제거 후 새로 저장\n",
        "df.to_csv('/content/drive/My Drive/Final-project/NLP/data/10000recipe_dataframe_for_token.csv',\n",
        "            sep='\\t',\n",
        "            encoding='utf-8',\n",
        "            index=False)"
      ],
      "execution_count": 0,
      "outputs": []
    },
    {
      "cell_type": "markdown",
      "metadata": {
        "id": "ZSb7feYCehVq",
        "colab_type": "text"
      },
      "source": [
        "## 레시피 제목 텍스트 전처리 하기\n",
        "\n",
        "- 형태소 분석을 해서 명사와 형용사만 사용"
      ]
    },
    {
      "cell_type": "code",
      "metadata": {
        "id": "7Z_UproCecxa",
        "colab_type": "code",
        "outputId": "7214423c-a61f-4713-d4a0-84c2d4ed2a3e",
        "colab": {
          "base_uri": "https://localhost:8080/",
          "height": 195
        }
      },
      "source": [
        "# 데이터 프레임 불러오기\n",
        "df=pd.read_csv('/content/drive/My Drive/Final-project/NLP/data/10000recipe_dataframe_for_token.csv',\n",
        "                sep='\\t',\n",
        "                encoding='utf-8')\n",
        "df.head()"
      ],
      "execution_count": 0,
      "outputs": [
        {
          "output_type": "execute_result",
          "data": {
            "text/html": [
              "<div>\n",
              "<style scoped>\n",
              "    .dataframe tbody tr th:only-of-type {\n",
              "        vertical-align: middle;\n",
              "    }\n",
              "\n",
              "    .dataframe tbody tr th {\n",
              "        vertical-align: top;\n",
              "    }\n",
              "\n",
              "    .dataframe thead th {\n",
              "        text-align: right;\n",
              "    }\n",
              "</style>\n",
              "<table border=\"1\" class=\"dataframe\">\n",
              "  <thead>\n",
              "    <tr style=\"text-align: right;\">\n",
              "      <th></th>\n",
              "      <th>id</th>\n",
              "      <th>title</th>\n",
              "      <th>steps</th>\n",
              "    </tr>\n",
              "  </thead>\n",
              "  <tbody>\n",
              "    <tr>\n",
              "      <th>0</th>\n",
              "      <td>6894825</td>\n",
              "      <td>냉장고를부탁해 이연복 전복영양밥만들기 전복과 오징어새우가 들어간 볶음밥에 모닝글로리...</td>\n",
              "      <td>먼저 전복을 물에 넣고는 삶아 줍니다. 전복을 삶은 중간에 오징어와 새우를 넣어서 ...</td>\n",
              "    </tr>\n",
              "    <tr>\n",
              "      <th>1</th>\n",
              "      <td>6894824</td>\n",
              "      <td>목우촌 캠핑요리 베이컨 야채말이</td>\n",
              "      <td>준비해둔 야채를 깨끗이 씻고 깻잎은 절반 대파는 한입크기 파프리카는 채 썰어줍니다 ...</td>\n",
              "    </tr>\n",
              "    <tr>\n",
              "      <th>2</th>\n",
              "      <td>6894823</td>\n",
              "      <td>단호박라떼  전자렌지로 단호박 찌는법</td>\n",
              "      <td>단호박 찌는법 첫번째는 단호박은 반을 자르고 속안에 든 씨를 모두 제거해 줍니다. ...</td>\n",
              "    </tr>\n",
              "    <tr>\n",
              "      <th>3</th>\n",
              "      <td>6894822</td>\n",
              "      <td>풀무원 보글보글 된장찌게 끓이기</td>\n",
              "      <td>풀무원 정통된장을 냄비나 뚝배기에 물을 500ml넣고 끓여주세요.\\\\n(뒷면에 자세...</td>\n",
              "    </tr>\n",
              "    <tr>\n",
              "      <th>4</th>\n",
              "      <td>6894820</td>\n",
              "      <td>미숫가루 만들기</td>\n",
              "      <td>모든잡곡은 고두밥을 지어요 율무쌀은 가장 단단한 잡곡 이예요 불리지않고 밥하는것처럼...</td>\n",
              "    </tr>\n",
              "  </tbody>\n",
              "</table>\n",
              "</div>"
            ],
            "text/plain": [
              "        id  ...                                              steps\n",
              "0  6894825  ...  먼저 전복을 물에 넣고는 삶아 줍니다. 전복을 삶은 중간에 오징어와 새우를 넣어서 ...\n",
              "1  6894824  ...  준비해둔 야채를 깨끗이 씻고 깻잎은 절반 대파는 한입크기 파프리카는 채 썰어줍니다 ...\n",
              "2  6894823  ...  단호박 찌는법 첫번째는 단호박은 반을 자르고 속안에 든 씨를 모두 제거해 줍니다. ...\n",
              "3  6894822  ...  풀무원 정통된장을 냄비나 뚝배기에 물을 500ml넣고 끓여주세요.\\\\n(뒷면에 자세...\n",
              "4  6894820  ...  모든잡곡은 고두밥을 지어요 율무쌀은 가장 단단한 잡곡 이예요 불리지않고 밥하는것처럼...\n",
              "\n",
              "[5 rows x 3 columns]"
            ]
          },
          "metadata": {
            "tags": []
          },
          "execution_count": 9
        }
      ]
    },
    {
      "cell_type": "code",
      "metadata": {
        "id": "n0vPxuQZfTIX",
        "colab_type": "code",
        "outputId": "9be27c1d-a03e-4330-a2c0-e71d04a23c14",
        "colab": {
          "base_uri": "https://localhost:8080/",
          "height": 34
        }
      },
      "source": [
        "df.shape"
      ],
      "execution_count": 0,
      "outputs": [
        {
          "output_type": "execute_result",
          "data": {
            "text/plain": [
              "(54738, 3)"
            ]
          },
          "metadata": {
            "tags": []
          },
          "execution_count": 10
        }
      ]
    },
    {
      "cell_type": "code",
      "metadata": {
        "id": "mYYL8zkzfVwP",
        "colab_type": "code",
        "outputId": "2c10e45a-9c05-4238-9442-1770642b330c",
        "colab": {
          "base_uri": "https://localhost:8080/",
          "height": 179
        }
      },
      "source": [
        "# 레시피 제목과 id만 추려서 데이터프레임 새로 만들기\n",
        "title_df = df[['id', 'title']]\n",
        "title_df.head()"
      ],
      "execution_count": 0,
      "outputs": [
        {
          "output_type": "error",
          "ename": "NameError",
          "evalue": "ignored",
          "traceback": [
            "\u001b[0;31m---------------------------------------------------------------------------\u001b[0m",
            "\u001b[0;31mNameError\u001b[0m                                 Traceback (most recent call last)",
            "\u001b[0;32m<ipython-input-1-a35c524ba8b8>\u001b[0m in \u001b[0;36m<module>\u001b[0;34m()\u001b[0m\n\u001b[0;32m----> 1\u001b[0;31m \u001b[0mtitle_df\u001b[0m \u001b[0;34m=\u001b[0m \u001b[0mdf\u001b[0m\u001b[0;34m[\u001b[0m\u001b[0;34m[\u001b[0m\u001b[0;34m'id'\u001b[0m\u001b[0;34m,\u001b[0m \u001b[0;34m'title'\u001b[0m\u001b[0;34m]\u001b[0m\u001b[0;34m]\u001b[0m\u001b[0;34m\u001b[0m\u001b[0;34m\u001b[0m\u001b[0m\n\u001b[0m\u001b[1;32m      2\u001b[0m \u001b[0mtitle_df\u001b[0m\u001b[0;34m.\u001b[0m\u001b[0mhead\u001b[0m\u001b[0;34m(\u001b[0m\u001b[0;34m)\u001b[0m\u001b[0;34m\u001b[0m\u001b[0;34m\u001b[0m\u001b[0m\n",
            "\u001b[0;31mNameError\u001b[0m: name 'df' is not defined"
          ]
        }
      ]
    },
    {
      "cell_type": "code",
      "metadata": {
        "id": "VOkoJ5oAfq0f",
        "colab_type": "code",
        "colab": {}
      },
      "source": [
        "# 문장을 토큰화 시킬 함수 선언\n",
        "def tokenizer_Mecab_morphs(doc):\n",
        "    return m.morphs(str(doc))\n",
        "\n",
        "def tokenizer_Mecab_noun(doc):\n",
        "    return m.nouns(str(doc))\n",
        "\n",
        "def tokenizer_Mecab_pos(doc):\n",
        "    return m.pos(str(doc), flatten=True)"
      ],
      "execution_count": 0,
      "outputs": []
    },
    {
      "cell_type": "code",
      "metadata": {
        "id": "zM1kh8rHLIpE",
        "colab_type": "code",
        "outputId": "969a6a8d-7331-4e3e-d2d9-8a2be2fd7921",
        "colab": {
          "base_uri": "https://localhost:8080/",
          "height": 67
        }
      },
      "source": [
        "# 함수 사용 테스트\n",
        "print(tokenizer_Mecab_morphs('더 좋은 한 끼 곤약젤리'))\n",
        "print(tokenizer_Mecab_noun('더 좋은 한 끼 곤약젤리'))\n",
        "print(tokenizer_Mecab_pos('더 좋은 한 끼 곤약젤리'))"
      ],
      "execution_count": 0,
      "outputs": [
        {
          "output_type": "stream",
          "text": [
            "['더', '좋', '은', '한', '끼', '곤약', '젤리']\n",
            "['끼', '곤약', '젤리']\n",
            "[('더', 'MAG'), ('좋', 'VA'), ('은', 'ETM'), ('한', 'MM'), ('끼', 'NNBC'), ('곤약', 'NNG'), ('젤리', 'NNG')]\n"
          ],
          "name": "stdout"
        }
      ]
    },
    {
      "cell_type": "code",
      "metadata": {
        "id": "Ne6n7MLQ5tAf",
        "colab_type": "code",
        "colab": {}
      },
      "source": [
        "# 명사와 형용사만 찾을 정규 표현식 생성\n",
        "find_pos = re.compile(r'^N.*|VA|^M.*|XR(?!VV+)')"
      ],
      "execution_count": 0,
      "outputs": []
    },
    {
      "cell_type": "code",
      "metadata": {
        "id": "SgwYJ0SY5tDR",
        "colab_type": "code",
        "colab": {}
      },
      "source": [
        "# 문장을 토큰화 한 후 명사와 형용사만 추가하는 함수 선언\n",
        "def preprocessing_text(doc):\n",
        "    doc = str(doc)\n",
        "    token_list=[]\n",
        "    tokens = m.pos(doc, flatten=True)\n",
        "    for word, pos in tokens:\n",
        "        if find_pos.match(pos):\n",
        "            token_list.append(word)\n",
        "    return token_list"
      ],
      "execution_count": 0,
      "outputs": []
    },
    {
      "cell_type": "code",
      "metadata": {
        "id": "qJdAqI_rf1AI",
        "colab_type": "code",
        "colab": {}
      },
      "source": [
        "# title 컬럼을 토큰화시켜서 새로운 컬럼('token_title') 생성\n",
        "title_df['token_title']=title_df['title'].apply(preprocessing_text)"
      ],
      "execution_count": 0,
      "outputs": []
    },
    {
      "cell_type": "code",
      "metadata": {
        "id": "5SZ2PMzULxX3",
        "colab_type": "code",
        "outputId": "f5826b54-4a10-4fa7-f644-16deb82570d4",
        "colab": {
          "base_uri": "https://localhost:8080/",
          "height": 195
        }
      },
      "source": [
        "title_df.head()"
      ],
      "execution_count": 0,
      "outputs": [
        {
          "output_type": "execute_result",
          "data": {
            "text/html": [
              "<div>\n",
              "<style scoped>\n",
              "    .dataframe tbody tr th:only-of-type {\n",
              "        vertical-align: middle;\n",
              "    }\n",
              "\n",
              "    .dataframe tbody tr th {\n",
              "        vertical-align: top;\n",
              "    }\n",
              "\n",
              "    .dataframe thead th {\n",
              "        text-align: right;\n",
              "    }\n",
              "</style>\n",
              "<table border=\"1\" class=\"dataframe\">\n",
              "  <thead>\n",
              "    <tr style=\"text-align: right;\">\n",
              "      <th></th>\n",
              "      <th>id</th>\n",
              "      <th>title</th>\n",
              "      <th>token_title</th>\n",
              "    </tr>\n",
              "  </thead>\n",
              "  <tbody>\n",
              "    <tr>\n",
              "      <th>0</th>\n",
              "      <td>6894825</td>\n",
              "      <td>냉장고를부탁해 이연복 전복영양밥만들기 전복과 오징어새우가 들어간 볶음밥에 모닝글로리...</td>\n",
              "      <td>[냉장고, 부탁, 이연복, 전복, 영양, 밥, 전복, 오징어, 새우, 볶음밥, 모닝...</td>\n",
              "    </tr>\n",
              "    <tr>\n",
              "      <th>1</th>\n",
              "      <td>6894824</td>\n",
              "      <td>목우촌 캠핑요리 베이컨 야채말이</td>\n",
              "      <td>[목, 우촌, 캠핑, 요리, 베이컨, 야채, 말]</td>\n",
              "    </tr>\n",
              "    <tr>\n",
              "      <th>2</th>\n",
              "      <td>6894823</td>\n",
              "      <td>단호박라떼  전자렌지로 단호박 찌는법</td>\n",
              "      <td>[단호박, 라떼, 전자, 렌지, 단호박, 법]</td>\n",
              "    </tr>\n",
              "    <tr>\n",
              "      <th>3</th>\n",
              "      <td>6894822</td>\n",
              "      <td>풀무원 보글보글 된장찌게 끓이기</td>\n",
              "      <td>[풀무원, 보글보글, 된장]</td>\n",
              "    </tr>\n",
              "    <tr>\n",
              "      <th>4</th>\n",
              "      <td>6894820</td>\n",
              "      <td>미숫가루 만들기</td>\n",
              "      <td>[미숫가루]</td>\n",
              "    </tr>\n",
              "  </tbody>\n",
              "</table>\n",
              "</div>"
            ],
            "text/plain": [
              "        id  ...                                        token_title\n",
              "0  6894825  ...  [냉장고, 부탁, 이연복, 전복, 영양, 밥, 전복, 오징어, 새우, 볶음밥, 모닝...\n",
              "1  6894824  ...                        [목, 우촌, 캠핑, 요리, 베이컨, 야채, 말]\n",
              "2  6894823  ...                          [단호박, 라떼, 전자, 렌지, 단호박, 법]\n",
              "3  6894822  ...                                    [풀무원, 보글보글, 된장]\n",
              "4  6894820  ...                                             [미숫가루]\n",
              "\n",
              "[5 rows x 3 columns]"
            ]
          },
          "metadata": {
            "tags": []
          },
          "execution_count": 17
        }
      ]
    },
    {
      "cell_type": "markdown",
      "metadata": {
        "id": "8K2m-V1nMezi",
        "colab_type": "text"
      },
      "source": [
        "## Doc2vec 모델 학습시키기"
      ]
    },
    {
      "cell_type": "code",
      "metadata": {
        "id": "-QE4Akz5gHrL",
        "colab_type": "code",
        "colab": {}
      },
      "source": [
        "# Doc2vec 입력 형식에 맞게 데이터 수정\n",
        "# tags = 문서 ID\n",
        "# words = 단어 list\n",
        "title_doc_df = title_df[['id', 'token_title']].values.tolist()\n",
        "tagged_data = [TaggedDocument(words=_d, tags=[uid]) for uid, _d in title_doc_df]"
      ],
      "execution_count": 0,
      "outputs": []
    },
    {
      "cell_type": "code",
      "metadata": {
        "id": "NzVyMyND6nKM",
        "colab_type": "code",
        "outputId": "a06afb70-044e-4a3b-ac0c-d5fb069b0b37",
        "colab": {
          "base_uri": "https://localhost:8080/",
          "height": 414
        }
      },
      "source": [
        "# Training\n",
        "max_epochs=10\n",
        "\n",
        "model=Doc2Vec(window=10,\n",
        "             vector_size=150,\n",
        "             alpha=0.025,\n",
        "             min_alpha=0.025,\n",
        "             min_count=2,\n",
        "             dm = 1,\n",
        "             negative = 5,\n",
        "             seed=9999)\n",
        "\n",
        "model.build_vocab(tagged_data)\n",
        "for epoch in range(max_epochs):\n",
        "    print('iteration {0}'.format(epoch))\n",
        "    model.train(tagged_data,\n",
        "               total_examples=model.corpus_count,\n",
        "               epochs=model.iter)\n",
        "    # decrease the learning rate\n",
        "    model.alpha -= 0.002\n",
        "    model.min_alpha = model.alpha\n",
        "\n",
        "# history = model.fit_generator(train_generator, epochs=50, validation_data = val_generator,\n",
        "#                               callbacks=[checkpoint, early_stopping])\n",
        "\n",
        "# plt.plot(history.history['loss'])\n",
        "# plt.plot(history.history['val_loss'])\n",
        "# plt.plot(history.history['acc'])\n",
        "# plt.plot(history.history['val_acc'])\n",
        "# plt.title('model loss')\n",
        "# plt.ylabel('loss')\n",
        "# plt.xlabel('epoch')\n",
        "# plt.legend(['loss', 'val_loss', 'acc', 'val_acc'], loc='upper left')\n",
        "# plt.show()\n",
        "\n",
        "# 모델 저장하기\n",
        "from gensim.test.utils import get_tmpfile\n",
        "\n",
        "# temp_path = get_tmpfile('title_doc2vec_0327.pkl')\n",
        "DOC2VEC_DRIVE_PATH = '/content/drive/My Drive/Final-project/NLP/model/'\n",
        "model.save(os.path.join(DOC2VEC_DRIVE_PATH, \"title_doc2vec_0327.pkl\"))\n",
        "\n",
        "model.delete_temporary_training_data(keep_doctags_vectors=True, keep_inference=True)"
      ],
      "execution_count": 0,
      "outputs": [
        {
          "output_type": "stream",
          "text": [
            "iteration 0\n"
          ],
          "name": "stdout"
        },
        {
          "output_type": "stream",
          "text": [
            "/usr/local/lib/python3.6/dist-packages/ipykernel_launcher.py:17: DeprecationWarning: Call to deprecated `iter` (Attribute will be removed in 4.0.0, use self.epochs instead).\n"
          ],
          "name": "stderr"
        },
        {
          "output_type": "stream",
          "text": [
            "iteration 1\n",
            "iteration 2\n",
            "iteration 3\n",
            "iteration 4\n",
            "iteration 5\n",
            "iteration 6\n",
            "iteration 7\n",
            "iteration 8\n",
            "iteration 9\n"
          ],
          "name": "stdout"
        },
        {
          "output_type": "error",
          "ename": "AttributeError",
          "evalue": "ignored",
          "traceback": [
            "\u001b[0;31m---------------------------------------------------------------------------\u001b[0m",
            "\u001b[0;31mAttributeError\u001b[0m                            Traceback (most recent call last)",
            "\u001b[0;32m<ipython-input-19-1c7fb2c10d6a>\u001b[0m in \u001b[0;36m<module>\u001b[0;34m()\u001b[0m\n\u001b[1;32m     20\u001b[0m     \u001b[0mmodel\u001b[0m\u001b[0;34m.\u001b[0m\u001b[0mmin_alpha\u001b[0m \u001b[0;34m=\u001b[0m \u001b[0mmodel\u001b[0m\u001b[0;34m.\u001b[0m\u001b[0malpha\u001b[0m\u001b[0;34m\u001b[0m\u001b[0;34m\u001b[0m\u001b[0m\n\u001b[1;32m     21\u001b[0m \u001b[0;34m\u001b[0m\u001b[0m\n\u001b[0;32m---> 22\u001b[0;31m history = model.fit_generator(train_generator, epochs=50, validation_data = val_generator,\n\u001b[0m\u001b[1;32m     23\u001b[0m                               callbacks=[checkpoint, early_stopping])\n\u001b[1;32m     24\u001b[0m \u001b[0;34m\u001b[0m\u001b[0m\n",
            "\u001b[0;31mAttributeError\u001b[0m: 'Doc2Vec' object has no attribute 'fit_generator'"
          ]
        }
      ]
    },
    {
      "cell_type": "code",
      "metadata": {
        "id": "Zji3a6dS6nQQ",
        "colab_type": "code",
        "outputId": "16438959-9119-4aec-eb7c-631a494e8817",
        "colab": {
          "base_uri": "https://localhost:8080/",
          "height": 70
        }
      },
      "source": [
        "# 모델 저장하기\n",
        "from gensim.test.utils import get_tmpfile\n",
        "\n",
        "# temp_path = get_tmpfile('title_doc2vec_0327.pkl')\n",
        "DOC2VEC_DRIVE_PATH = '/content/drive/My Drive/Final-project/NLP/model/'\n",
        "model.save(os.path.join(DOC2VEC_DRIVE_PATH, \"title_doc2vec_0327.pkl\"))\n",
        "\n",
        "model.delete_temporary_training_data(keep_doctags_vectors=True, keep_inference=True)"
      ],
      "execution_count": 0,
      "outputs": [
        {
          "output_type": "stream",
          "text": [
            "/usr/local/lib/python3.6/dist-packages/smart_open/smart_open_lib.py:410: UserWarning: This function is deprecated, use smart_open.open instead. See the migration notes for details: https://github.com/RaRe-Technologies/smart_open/blob/master/README.rst#migrating-to-the-new-open-function\n",
            "  'See the migration notes for details: %s' % _MIGRATION_NOTES_URL\n"
          ],
          "name": "stderr"
        }
      ]
    },
    {
      "cell_type": "code",
      "metadata": {
        "id": "M2rv_YaB6nTE",
        "colab_type": "code",
        "outputId": "7874c342-bfe0-4ee8-ab3a-f2e3e6247888",
        "colab": {
          "base_uri": "https://localhost:8080/",
          "height": 34
        }
      },
      "source": [
        "model.total_train_time"
      ],
      "execution_count": 0,
      "outputs": [
        {
          "output_type": "execute_result",
          "data": {
            "text/plain": [
              "201.17374503699898"
            ]
          },
          "metadata": {
            "tags": []
          },
          "execution_count": 32
        }
      ]
    },
    {
      "cell_type": "code",
      "metadata": {
        "id": "zypt9Qci6nW9",
        "colab_type": "code",
        "outputId": "9a2ca303-318c-4248-b4de-598660dd3bc8",
        "colab": {
          "base_uri": "https://localhost:8080/",
          "height": 34
        }
      },
      "source": [
        ""
      ],
      "execution_count": 0,
      "outputs": [
        {
          "output_type": "execute_result",
          "data": {
            "text/plain": [
              "False"
            ]
          },
          "metadata": {
            "tags": []
          },
          "execution_count": 33
        }
      ]
    },
    {
      "cell_type": "code",
      "metadata": {
        "id": "v3Ueb-LA6nNf",
        "colab_type": "code",
        "colab": {}
      },
      "source": [
        ""
      ],
      "execution_count": 0,
      "outputs": []
    },
    {
      "cell_type": "code",
      "metadata": {
        "id": "b8Qrpnm_Mh8v",
        "colab_type": "code",
        "colab": {}
      },
      "source": [
        "# # Training\n",
        "# max_epochs=10\n",
        "\n",
        "# model=Doc2Vec(window=10,\n",
        "#              vector_size=150,\n",
        "#              alpha=0.025,\n",
        "#              min_alpha=0.025,\n",
        "#              min_count=2,\n",
        "#              dm = 1,\n",
        "#              negative = 5,\n",
        "#              seed=9999)\n",
        "\n",
        "# model.build_vocab(tagged_data)\n",
        "# for epoch in range(max_epochs):\n",
        "#     print('iteration {0}'.format(epoch))\n",
        "#     model.train(tagged_data,\n",
        "#                total_examples=model.corpus_count,\n",
        "#                epochs=model.iter)\n",
        "#     # decrease the learning rate\n",
        "#     model.alpha -= 0.002\n",
        "#     model.min_alpha = model.alpha"
      ],
      "execution_count": 0,
      "outputs": []
    },
    {
      "cell_type": "code",
      "metadata": {
        "id": "GbVzIJUuXDCg",
        "colab_type": "code",
        "colab": {}
      },
      "source": [
        "# # 모델 저장하기\n",
        "# from gensim.test.utils import get_tmpfile\n",
        "\n",
        "# temp_path = get_tmpfile('title_doc2vec_0325.pkl')\n",
        "# DOC2VEC_DRIVE_PATH = '/content/drive/My Drive/Final-project/NLP/model/'\n",
        "# model.save(os.path.join(DOC2VEC_DRIVE_PATH, \"title_doc2vec_0327.pkl\"))"
      ],
      "execution_count": 0,
      "outputs": []
    },
    {
      "cell_type": "code",
      "metadata": {
        "id": "yHqtsctiYWUB",
        "colab_type": "code",
        "colab": {}
      },
      "source": [
        "# # temp 파일 삭제\n",
        "# model.delete_temporary_training_data(keep_doctags_vectors=True, keep_inference=True)"
      ],
      "execution_count": 0,
      "outputs": []
    },
    {
      "cell_type": "code",
      "metadata": {
        "id": "RVV7U2cJWu0O",
        "colab_type": "code",
        "colab": {}
      },
      "source": [
        "# DOC2VEC_DRIVE_PATH = '/content/drive/My Drive/Final-project/NLP/model/'"
      ],
      "execution_count": 0,
      "outputs": []
    },
    {
      "cell_type": "markdown",
      "metadata": {
        "id": "n-fzkiYpa15w",
        "colab_type": "text"
      },
      "source": [
        "## 문장 유사도 확인하기"
      ]
    },
    {
      "cell_type": "code",
      "metadata": {
        "id": "g8QV9osSa-V-",
        "colab_type": "code",
        "outputId": "da082ba2-e750-47d4-d658-5c6215c94c5f",
        "colab": {
          "base_uri": "https://localhost:8080/",
          "height": 70
        }
      },
      "source": [
        "# model load\n",
        "DOC2VEC_MODEL_PATH = os.path.join(DOC2VEC_DRIVE_PATH, \"title_doc2vec_0327.pkl\")\n",
        "model = Doc2Vec.load(DOC2VEC_MODEL_PATH)"
      ],
      "execution_count": 0,
      "outputs": [
        {
          "output_type": "stream",
          "text": [
            "/usr/local/lib/python3.6/dist-packages/smart_open/smart_open_lib.py:410: UserWarning: This function is deprecated, use smart_open.open instead. See the migration notes for details: https://github.com/RaRe-Technologies/smart_open/blob/master/README.rst#migrating-to-the-new-open-function\n",
            "  'See the migration notes for details: %s' % _MIGRATION_NOTES_URL\n"
          ],
          "name": "stderr"
        }
      ]
    },
    {
      "cell_type": "code",
      "metadata": {
        "id": "Jagz7HfwYP_F",
        "colab_type": "code",
        "colab": {}
      },
      "source": [
        "print(gensim)"
      ],
      "execution_count": 0,
      "outputs": []
    },
    {
      "cell_type": "code",
      "metadata": {
        "id": "NPvd-hNmfNsX",
        "colab_type": "code",
        "outputId": "1c017ed2-7e89-48ce-9134-fbdbd3b95053",
        "colab": {
          "base_uri": "https://localhost:8080/",
          "height": 84
        }
      },
      "source": [
        "!pip install --upgrade h5py\n",
        "!pip install --upgrade numpy"
      ],
      "execution_count": 0,
      "outputs": [
        {
          "output_type": "stream",
          "text": [
            "Requirement already up-to-date: h5py in /usr/local/lib/python3.6/dist-packages (2.10.0)\n",
            "Requirement already satisfied, skipping upgrade: numpy>=1.7 in /usr/local/lib/python3.6/dist-packages (from h5py) (1.18.2)\n",
            "Requirement already satisfied, skipping upgrade: six in /usr/local/lib/python3.6/dist-packages (from h5py) (1.12.0)\n",
            "Requirement already up-to-date: numpy in /usr/local/lib/python3.6/dist-packages (1.18.2)\n"
          ],
          "name": "stdout"
        }
      ]
    },
    {
      "cell_type": "code",
      "metadata": {
        "id": "t3gDUWcrbnuG",
        "colab_type": "code",
        "outputId": "33601fd3-9c55-4ff3-af5e-c62db5026a6b",
        "colab": {
          "base_uri": "https://localhost:8080/",
          "height": 406
        }
      },
      "source": [
        "# 새로운 문장을 넣어 유사도 확인하기\n",
        "model.random.seed(8000)\n",
        "\n",
        "example_list = preprocessing_text('참치')\n",
        "inferred_vector = model.infer_vector(example_list)\n",
        "return_docs = model.docvecs.most_similar(positive=[inferred_vector],topn=20)\n",
        "for rd in return_docs:\n",
        "    for des in title_df[title_df['id'] == rd[0]]['title']:\n",
        "        print(rd[0], rd[1], des)"
      ],
      "execution_count": 0,
      "outputs": [
        {
          "output_type": "stream",
          "text": [
            "/usr/local/lib/python3.6/dist-packages/gensim/matutils.py:737: FutureWarning: Conversion of the second argument of issubdtype from `int` to `np.signedinteger` is deprecated. In future, it will be treated as `np.int64 == np.dtype(int).type`.\n",
            "  if np.issubdtype(vec.dtype, np.int):\n"
          ],
          "name": "stderr"
        },
        {
          "output_type": "stream",
          "text": [
            "6846767 0.7780711054801941 생생정보 참치김치볶음밥 황금레시피\n",
            "6859727 0.7554196715354919 참치와 닭가슴살이 들어간 길거리 토스트\n",
            "6906711 0.7363095283508301 참치사골미역국\n",
            "6899085 0.7068617939949036 두부조림 칼칼한 두부참치 두루치기\n",
            "6854477 0.6915662288665771 참치김치볶음밥 만들기 예쁜 곰돌이 모양으로\n",
            "6879593 0.6904956102371216 참치스팸햄샌드위치만들기 스팸햄과 참치가 들어간 간식 참치스팸햄샌드위치\n",
            "6706014 0.6856033205986023 김밥 예쁘게 싸는 방법 참치김밥 삼겹살김밥\n",
            "6896897 0.6570698618888855 국물이 일품인 참치 오징어찌개\n",
            "6924060 0.6378894448280334 간단밑반찬 참치총각김치볶음\n",
            "3435391 0.6363502740859985 참치달걀마요 피자토스트\n",
            "6914804 0.633748471736908 제철 음식 참다랑어로 참치 후토마끼 만들기\n",
            "6856180 0.631584107875824 장아찌 드레싱누들고소한 참치에 장아찌로 입맛을 잡아요\n",
            "6864263 0.6207029223442078 참치주먹밥베이컨떡말이\n",
            "6910085 0.6202589273452759 참치라면 레시피 숙주넣어 아삭하게\n",
            "6913396 0.6198413968086243 간편식상품화 크림 데리 참치파스타\n",
            "6876083 0.615755558013916 사과가들어가 달콤상콤한 참치또띠아롤\n",
            "6921856 0.6076948642730713 부들부들 맛나는 참치두부두루치기\n",
            "6288437 0.6000051498413086 참치 카레라이스\n",
            "6913611 0.5963339805603027 아이들매일반찬 참치김치찌개\n",
            "6921474 0.5903058648109436 마파두부 돼지고기 대신 참치로 만든 마파두부\n"
          ],
          "name": "stdout"
        }
      ]
    },
    {
      "cell_type": "code",
      "metadata": {
        "id": "55zDxeSQgO_a",
        "colab_type": "code",
        "outputId": "e579e28e-300d-482a-d791-791397c9728b",
        "colab": {
          "base_uri": "https://localhost:8080/",
          "height": 406
        }
      },
      "source": [
        "model.random.seed(8000)\n",
        "\n",
        "example_list = preprocessing_text('단짠단짠의 대패덮밥')\n",
        "inferred_vector = model.infer_vector(example_list)\n",
        "return_docs = model.docvecs.most_similar(positive=[inferred_vector],topn=20)\n",
        "for rd in return_docs:\n",
        "    for des in title_df[title_df['id'] == rd[0]]['title']:\n",
        "        print(rd[0], rd[1], des)"
      ],
      "execution_count": 0,
      "outputs": [
        {
          "output_type": "stream",
          "text": [
            "/usr/local/lib/python3.6/dist-packages/gensim/matutils.py:737: FutureWarning: Conversion of the second argument of issubdtype from `int` to `np.signedinteger` is deprecated. In future, it will be treated as `np.int64 == np.dtype(int).type`.\n",
            "  if np.issubdtype(vec.dtype, np.int):\n"
          ],
          "name": "stderr"
        },
        {
          "output_type": "stream",
          "text": [
            "6915535 0.7545669078826904 달큰한 양파덮밥\n",
            "6865517 0.7505785822868347 돈까스 덮밥\n",
            "6845640 0.748032808303833 치킨너겟덮밥 만들기\n",
            "6920864 0.7455601692199707 쉬림프 덮밥 만들기\n",
            "6916795 0.7446784377098083 암예방레시피마늘쫑 덮밥\n",
            "6894131 0.7403937578201294 스크램블 에그 덮밥\n",
            "6919390 0.740318238735199 칠리새우덮밥 만들기 새우요리\n",
            "6888174 0.7389644980430603 덮밥처럼 먹는 햄버그스테이크하와이식 함박스테이크\n",
            "6854040 0.7384890913963318 치키마요덮밥\n",
            "6912867 0.7337858080863953 가정간편식 삼치구이 덮밥\n",
            "6867860 0.732214629650116 간장 돼지 불고기 덮밥\n",
            "6890199 0.7296136617660522 소라장 덮밥\n",
            "6842340 0.7264766693115234 먹다 남은 치킨 활용법 치킨마요덮밥\n",
            "6913339 0.7259777784347534 가정간편식새우마요덮밥\n",
            "6879245 0.724875807762146 새우장 덮밥\n",
            "6868557 0.7173271775245667 오징어덮밥 만들기\n",
            "6883216 0.7170000076293945 닭가슴살 덮밥으로 즐겨요\n",
            "6846693 0.7141279578208923 오징어 튀김 덮밥 만들기\n",
            "2690813 0.7133302688598633 데리야키 덮밥\n",
            "6899178 0.7102718353271484 오징어다리 볶아 덮밥으로 먹었습니다 오징어덮밥 오징어볶음\n"
          ],
          "name": "stdout"
        }
      ]
    },
    {
      "cell_type": "code",
      "metadata": {
        "colab_type": "code",
        "outputId": "a273959f-1775-41f9-e4a7-533ef51de5e6",
        "id": "vz7UDK-riaRI",
        "colab": {
          "base_uri": "https://localhost:8080/",
          "height": 406
        }
      },
      "source": [
        "model.random.seed(8000)\n",
        "\n",
        "test_txt = cleanText('아삭아삭하고 시원한 오이소박이')\n",
        "example_list = preprocessing_text(test_txt)\n",
        "inferred_vector = model.infer_vector(example_list)\n",
        "return_docs = model.docvecs.most_similar(positive=[inferred_vector],topn=20)\n",
        "for rd in return_docs:\n",
        "    for des in title_df[title_df['id'] == rd[0]]['title']:\n",
        "        print(rd[0], rd[1], des)"
      ],
      "execution_count": 0,
      "outputs": [
        {
          "output_type": "stream",
          "text": [
            "/usr/local/lib/python3.6/dist-packages/gensim/matutils.py:737: FutureWarning: Conversion of the second argument of issubdtype from `int` to `np.signedinteger` is deprecated. In future, it will be treated as `np.int64 == np.dtype(int).type`.\n",
            "  if np.issubdtype(vec.dtype, np.int):\n"
          ],
          "name": "stderr"
        },
        {
          "output_type": "stream",
          "text": [
            "6912730 0.7404549717903137 시원한 얼갈이 된장국\n",
            "4507979 0.7396938800811768 구수하고 시원한 배추된장국만들기\n",
            "6881497 0.731243371963501 시원한 배추 달래 된장국\n",
            "6891900 0.7193628549575806 열무김치 담그기 시원한 얼갈이 열무김치 담그는법\n",
            "6923058 0.7172775268554688 시원한 홍합미역국 끓이기\n",
            "6851748 0.7104392051696777 아삭하고 시원하게오이소박이 만들기\n",
            "6917343 0.7088552713394165 시원한 노각냉국\n",
            "6855524 0.6968193650245667 아삭하고 시원하게 깍두기만들기\n",
            "5593183 0.6887080073356628 시원한 감자국\n",
            "6860008 0.688239336013794 시원한 밀크티\n",
            "6892578 0.6866437196731567 시원하게 호로록 메밀소바\n",
            "6903661 0.6788150668144226 시원한 어묵탕 바른 어묵으로 끓인 어묵탕\n",
            "6901035 0.6738768219947815 시원하고 뽀얀 황태국\n",
            "4469459 0.6699370741844177 얼큰하고 시원한 동태찌개 긇이기\n",
            "6855419 0.6695454120635986 시원한 냉메밀국수\n",
            "6837990 0.6682031750679016 동태찌개 시원하게 끓이기\n",
            "6853944 0.6622316837310791 시원한 오이미역냉국\n",
            "6874886 0.6619391441345215 시원한 무우국\n",
            "6891518 0.6617140173912048 여름철별미 시원한 미역오이냉국 만들기\n",
            "6873115 0.6602320671081543 숙취해소에도 좋은 시원한 재첩국 만들기\n"
          ],
          "name": "stdout"
        }
      ]
    },
    {
      "cell_type": "code",
      "metadata": {
        "id": "1J2WozUVgQoz",
        "colab_type": "code",
        "colab": {}
      },
      "source": [
        ""
      ],
      "execution_count": 0,
      "outputs": []
    },
    {
      "cell_type": "code",
      "metadata": {
        "id": "KLh8VTMocaqU",
        "colab_type": "code",
        "outputId": "385b1e6a-a2ae-4459-fae8-50405794af6c",
        "colab": {
          "base_uri": "https://localhost:8080/",
          "height": 440
        }
      },
      "source": [
        "# 단어로 유사도 확인해보기\n",
        "model.most_similar('덮밥',topn=20)"
      ],
      "execution_count": 0,
      "outputs": [
        {
          "output_type": "stream",
          "text": [
            "/usr/local/lib/python3.6/dist-packages/ipykernel_launcher.py:1: DeprecationWarning: Call to deprecated `most_similar` (Method will be removed in 4.0.0, use self.wv.most_similar() instead).\n",
            "  \"\"\"Entry point for launching an IPython kernel.\n",
            "/usr/local/lib/python3.6/dist-packages/gensim/matutils.py:737: FutureWarning: Conversion of the second argument of issubdtype from `int` to `np.signedinteger` is deprecated. In future, it will be treated as `np.int64 == np.dtype(int).type`.\n",
            "  if np.issubdtype(vec.dtype, np.int):\n"
          ],
          "name": "stderr"
        },
        {
          "output_type": "execute_result",
          "data": {
            "text/plain": [
              "[('마파두부', 0.47617700695991516),\n",
              " ('김치볶음밥', 0.4589522182941437),\n",
              " ('볶음밥', 0.4451290965080261),\n",
              " ('밥', 0.413921982049942),\n",
              " ('볶음', 0.41321995854377747),\n",
              " ('돈부리', 0.4131929874420166),\n",
              " ('잡채', 0.4063357710838318),\n",
              " ('두부조림', 0.4055812358856201),\n",
              " ('동', 0.3950354754924774),\n",
              " ('짜장', 0.3765466511249542),\n",
              " ('무침', 0.3756636083126068),\n",
              " ('계란덮밥', 0.3751850128173828),\n",
              " ('두부덮밥', 0.3706231415271759),\n",
              " ('달걀덮밥', 0.363157719373703),\n",
              " ('조림', 0.36021414399147034),\n",
              " ('오므라이스', 0.3601547181606293),\n",
              " ('불고기', 0.3594944179058075),\n",
              " ('샐러드', 0.3579161465167999),\n",
              " ('콩나물밥', 0.35724809765815735),\n",
              " ('소스', 0.35698169469833374)]"
            ]
          },
          "metadata": {
            "tags": []
          },
          "execution_count": 31
        }
      ]
    },
    {
      "cell_type": "markdown",
      "metadata": {
        "id": "P6lNpbiVc6Qf",
        "colab_type": "text"
      },
      "source": [
        "## 결과\n",
        "\n",
        "- 단어를 넣어 유사도를 확인한 경우에는 유사 단어가 잘 나오지만 문장을 넣었을 경우에는 원하는 결과 값이 잘 나오지 않는 것을 확인하였음\n",
        "- 문장을 토큰화 한 후 불용어 제거를 하지 않고 모델에 학습시켰더니 결과가 좋지 않은 것으로 보인다\n",
        "- 불용어 제거를 한 후 모델의 성능을 확인 해봐야 겠다."
      ]
    }
  ]
}