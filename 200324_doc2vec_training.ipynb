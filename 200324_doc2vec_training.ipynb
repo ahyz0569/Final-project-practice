{
  "nbformat": 4,
  "nbformat_minor": 0,
  "metadata": {
    "colab": {
      "name": "200324_doc2vec_training.ipynb",
      "provenance": [],
      "collapsed_sections": [],
      "mount_file_id": "1cp92N2fEfxPWRhf6k0_jePZr2vTMX01V",
      "authorship_tag": "ABX9TyM+v47DONuqed3w7vCqnBaR",
      "include_colab_link": true
    },
    "kernelspec": {
      "name": "python3",
      "display_name": "Python 3"
    },
    "accelerator": "GPU"
  },
  "cells": [
    {
      "cell_type": "markdown",
      "metadata": {
        "id": "view-in-github",
        "colab_type": "text"
      },
      "source": [
        "<a href=\"https://colab.research.google.com/github/ahyz0569/Final-project-practice/blob/colab/200324_doc2vec_training.ipynb\" target=\"_parent\"><img src=\"https://colab.research.google.com/assets/colab-badge.svg\" alt=\"Open In Colab\"/></a>"
      ]
    },
    {
      "cell_type": "markdown",
      "metadata": {
        "id": "tvDFa8ioeTCs",
        "colab_type": "text"
      },
      "source": [
        "## Doc2vec 사용해보기\n",
        "\n",
        "colab에서 doc2vec 모델을 학습시키고 문장 유사도를 확인해보자"
      ]
    },
    {
      "cell_type": "code",
      "metadata": {
        "id": "ix8i-mkkJ6Ie",
        "colab_type": "code",
        "colab": {}
      },
      "source": [
        "# mecab 설치\n",
        "# 출처: https://somjang.tistory.com/entry/Google-Colab에서-Mecab-koMecab-ko-dic-쉽게-사용하기 [솜씨좋은장씨]\n",
        "\n",
        "!git clone https://github.com/SOMJANG/Mecab-ko-for-Google-Colab.git\n",
        "%cd Mecab-ko-for-Google-Colab\n",
        "! bash install_mecab-ko_on_colab190912.sh"
      ],
      "execution_count": 0,
      "outputs": []
    },
    {
      "cell_type": "code",
      "metadata": {
        "id": "kv-ueIH_KhbZ",
        "colab_type": "code",
        "outputId": "e60f9e93-2335-4939-dbcb-92947b4a6dc6",
        "colab": {
          "base_uri": "https://localhost:8080/",
          "height": 34
        }
      },
      "source": [
        "!pwd"
      ],
      "execution_count": 0,
      "outputs": [
        {
          "output_type": "stream",
          "text": [
            "/content/Mecab-ko-for-Google-Colab\n"
          ],
          "name": "stdout"
        }
      ]
    },
    {
      "cell_type": "markdown",
      "metadata": {
        "id": "mI3y_glNci-t",
        "colab_type": "text"
      },
      "source": [
        "## Library import"
      ]
    },
    {
      "cell_type": "code",
      "metadata": {
        "id": "4tZOVDyhZ5F2",
        "colab_type": "code",
        "colab": {}
      },
      "source": [
        "import gensim\n",
        "import sys\n",
        "import pandas as pd\n",
        "from konlpy.tag import Mecab\n",
        "m = Mecab()\n",
        "import re\n",
        "import os\n",
        "\n",
        "# imports package\n",
        "import nltk\n",
        "from gensim.models.doc2vec import Doc2Vec, TaggedDocument\n",
        "from nltk.tokenize import RegexpTokenizer"
      ],
      "execution_count": 0,
      "outputs": []
    },
    {
      "cell_type": "markdown",
      "metadata": {
        "id": "Ni8tHyHveIYJ",
        "colab_type": "text"
      },
      "source": [
        "## 데이터 로드 및 전처리\n",
        "- 특수 문자 제거"
      ]
    },
    {
      "cell_type": "code",
      "metadata": {
        "id": "yxXO3nIzaXTC",
        "colab_type": "code",
        "outputId": "5d674db5-cbd3-46de-c007-65b25986bdb2",
        "colab": {
          "base_uri": "https://localhost:8080/",
          "height": 262
        }
      },
      "source": [
        "df=pd.read_csv('/content/drive/My Drive/Final-project/NLP/data/10000recipe_dataframe_for_token.csv',\n",
        "                sep='\\t',\n",
        "                encoding='utf-8')\n",
        "df.head()"
      ],
      "execution_count": 0,
      "outputs": [
        {
          "output_type": "execute_result",
          "data": {
            "text/html": [
              "<div>\n",
              "<style scoped>\n",
              "    .dataframe tbody tr th:only-of-type {\n",
              "        vertical-align: middle;\n",
              "    }\n",
              "\n",
              "    .dataframe tbody tr th {\n",
              "        vertical-align: top;\n",
              "    }\n",
              "\n",
              "    .dataframe thead th {\n",
              "        text-align: right;\n",
              "    }\n",
              "</style>\n",
              "<table border=\"1\" class=\"dataframe\">\n",
              "  <thead>\n",
              "    <tr style=\"text-align: right;\">\n",
              "      <th></th>\n",
              "      <th>id</th>\n",
              "      <th>title</th>\n",
              "      <th>steps</th>\n",
              "    </tr>\n",
              "  </thead>\n",
              "  <tbody>\n",
              "    <tr>\n",
              "      <th>0</th>\n",
              "      <td>6894825</td>\n",
              "      <td>#냉장고를부탁해 #이연복 전복영양밥만들기 #전복과 오징어,새우가 들어간 볶음밥에 모...</td>\n",
              "      <td>먼저 전복을 물에 넣고는 삶아 줍니다. 전복을 삶은 중간에 오징어와 새우를 넣어서 ...</td>\n",
              "    </tr>\n",
              "    <tr>\n",
              "      <th>1</th>\n",
              "      <td>6894824</td>\n",
              "      <td>목우촌 캠핑요리 베이컨 야채말이</td>\n",
              "      <td>준비해둔 야채를 깨끗이 씻고 깻잎은 절반 대파는 한입크기 파프리카는 채 썰어줍니다 ...</td>\n",
              "    </tr>\n",
              "    <tr>\n",
              "      <th>2</th>\n",
              "      <td>6894823</td>\n",
              "      <td>단호박라떼 &amp; 전자렌지로 단호박 찌는법</td>\n",
              "      <td>단호박 찌는법 첫번째는 단호박은 반을 자르고 속안에 든 씨를 모두 제거해 줍니다. ...</td>\n",
              "    </tr>\n",
              "    <tr>\n",
              "      <th>3</th>\n",
              "      <td>6894822</td>\n",
              "      <td>풀무원 \"보글보글 된장찌게\" 끓이기</td>\n",
              "      <td>풀무원 정통된장을 냄비나 뚝배기에 물을 500ml넣고 끓여주세요.\\\\n(뒷면에 자세...</td>\n",
              "    </tr>\n",
              "    <tr>\n",
              "      <th>4</th>\n",
              "      <td>6894820</td>\n",
              "      <td>미숫가루 만들기</td>\n",
              "      <td>모든잡곡은 고두밥을 지어요 율무쌀은 가장 단단한 잡곡 이예요 불리지않고 밥하는것처럼...</td>\n",
              "    </tr>\n",
              "  </tbody>\n",
              "</table>\n",
              "</div>"
            ],
            "text/plain": [
              "        id  ...                                              steps\n",
              "0  6894825  ...  먼저 전복을 물에 넣고는 삶아 줍니다. 전복을 삶은 중간에 오징어와 새우를 넣어서 ...\n",
              "1  6894824  ...  준비해둔 야채를 깨끗이 씻고 깻잎은 절반 대파는 한입크기 파프리카는 채 썰어줍니다 ...\n",
              "2  6894823  ...  단호박 찌는법 첫번째는 단호박은 반을 자르고 속안에 든 씨를 모두 제거해 줍니다. ...\n",
              "3  6894822  ...  풀무원 정통된장을 냄비나 뚝배기에 물을 500ml넣고 끓여주세요.\\\\n(뒷면에 자세...\n",
              "4  6894820  ...  모든잡곡은 고두밥을 지어요 율무쌀은 가장 단단한 잡곡 이예요 불리지않고 밥하는것처럼...\n",
              "\n",
              "[5 rows x 3 columns]"
            ]
          },
          "metadata": {
            "tags": []
          },
          "execution_count": 7
        }
      ]
    },
    {
      "cell_type": "code",
      "metadata": {
        "id": "R2MItwdXdZ73",
        "colab_type": "code",
        "colab": {}
      },
      "source": [
        "# 문자열 내 특수 문자 제거 함수 선언 \n",
        "def cleanText(readData):\n",
        "    #텍스트에 포함되어 있는 특수 문자 제거 \n",
        "    text = re.sub('[-=+,#/\\?:^$.@*\\\"※~&%ㆍ!』\\\\‘|\\(\\)\\[\\]\\<\\>`\\'…》]', '', str(readData)) \n",
        "    return text"
      ],
      "execution_count": 0,
      "outputs": []
    },
    {
      "cell_type": "code",
      "metadata": {
        "id": "DxM0SQhWd-kJ",
        "colab_type": "code",
        "colab": {}
      },
      "source": [
        "# title 컬럼 특수문자 제거하기\n",
        "df['title']=df['title'].apply(cleanText)"
      ],
      "execution_count": 0,
      "outputs": []
    },
    {
      "cell_type": "code",
      "metadata": {
        "id": "bSio7rrFeCFs",
        "colab_type": "code",
        "outputId": "324d0449-d995-4fcc-cfe3-4e114ce385e9",
        "colab": {
          "base_uri": "https://localhost:8080/",
          "height": 279
        }
      },
      "source": [
        "df.head()"
      ],
      "execution_count": 0,
      "outputs": [
        {
          "output_type": "execute_result",
          "data": {
            "text/html": [
              "<div>\n",
              "<style scoped>\n",
              "    .dataframe tbody tr th:only-of-type {\n",
              "        vertical-align: middle;\n",
              "    }\n",
              "\n",
              "    .dataframe tbody tr th {\n",
              "        vertical-align: top;\n",
              "    }\n",
              "\n",
              "    .dataframe thead th {\n",
              "        text-align: right;\n",
              "    }\n",
              "</style>\n",
              "<table border=\"1\" class=\"dataframe\">\n",
              "  <thead>\n",
              "    <tr style=\"text-align: right;\">\n",
              "      <th></th>\n",
              "      <th>id</th>\n",
              "      <th>title</th>\n",
              "      <th>steps</th>\n",
              "    </tr>\n",
              "  </thead>\n",
              "  <tbody>\n",
              "    <tr>\n",
              "      <th>0</th>\n",
              "      <td>6894825</td>\n",
              "      <td>냉장고를부탁해 이연복 전복영양밥만들기 전복과 오징어새우가 들어간 볶음밥에 모닝글로리...</td>\n",
              "      <td>먼저 전복을 물에 넣고는 삶아 줍니다. 전복을 삶은 중간에 오징어와 새우를 넣어서 ...</td>\n",
              "    </tr>\n",
              "    <tr>\n",
              "      <th>1</th>\n",
              "      <td>6894824</td>\n",
              "      <td>목우촌 캠핑요리 베이컨 야채말이</td>\n",
              "      <td>준비해둔 야채를 깨끗이 씻고 깻잎은 절반 대파는 한입크기 파프리카는 채 썰어줍니다 ...</td>\n",
              "    </tr>\n",
              "    <tr>\n",
              "      <th>2</th>\n",
              "      <td>6894823</td>\n",
              "      <td>단호박라떼  전자렌지로 단호박 찌는법</td>\n",
              "      <td>단호박 찌는법 첫번째는 단호박은 반을 자르고 속안에 든 씨를 모두 제거해 줍니다. ...</td>\n",
              "    </tr>\n",
              "    <tr>\n",
              "      <th>3</th>\n",
              "      <td>6894822</td>\n",
              "      <td>풀무원 보글보글 된장찌게 끓이기</td>\n",
              "      <td>풀무원 정통된장을 냄비나 뚝배기에 물을 500ml넣고 끓여주세요.\\\\n(뒷면에 자세...</td>\n",
              "    </tr>\n",
              "    <tr>\n",
              "      <th>4</th>\n",
              "      <td>6894820</td>\n",
              "      <td>미숫가루 만들기</td>\n",
              "      <td>모든잡곡은 고두밥을 지어요 율무쌀은 가장 단단한 잡곡 이예요 불리지않고 밥하는것처럼...</td>\n",
              "    </tr>\n",
              "  </tbody>\n",
              "</table>\n",
              "</div>"
            ],
            "text/plain": [
              "        id  ...                                              steps\n",
              "0  6894825  ...  먼저 전복을 물에 넣고는 삶아 줍니다. 전복을 삶은 중간에 오징어와 새우를 넣어서 ...\n",
              "1  6894824  ...  준비해둔 야채를 깨끗이 씻고 깻잎은 절반 대파는 한입크기 파프리카는 채 썰어줍니다 ...\n",
              "2  6894823  ...  단호박 찌는법 첫번째는 단호박은 반을 자르고 속안에 든 씨를 모두 제거해 줍니다. ...\n",
              "3  6894822  ...  풀무원 정통된장을 냄비나 뚝배기에 물을 500ml넣고 끓여주세요.\\\\n(뒷면에 자세...\n",
              "4  6894820  ...  모든잡곡은 고두밥을 지어요 율무쌀은 가장 단단한 잡곡 이예요 불리지않고 밥하는것처럼...\n",
              "\n",
              "[5 rows x 3 columns]"
            ]
          },
          "metadata": {
            "tags": []
          },
          "execution_count": 11
        }
      ]
    },
    {
      "cell_type": "code",
      "metadata": {
        "id": "vz_DQcLSewbl",
        "colab_type": "code",
        "colab": {}
      },
      "source": [
        "# 특수문자 제거 후 새로 저장\n",
        "df.to_csv('/content/drive/My Drive/Final-project/NLP/data/10000recipe_dataframe_for_token.csv',\n",
        "            sep='\\t',\n",
        "            encoding='utf-8',\n",
        "            index=False)"
      ],
      "execution_count": 0,
      "outputs": []
    },
    {
      "cell_type": "markdown",
      "metadata": {
        "id": "ZSb7feYCehVq",
        "colab_type": "text"
      },
      "source": [
        "## 레시피 제목으로 doc2vec 학습시키기"
      ]
    },
    {
      "cell_type": "code",
      "metadata": {
        "id": "7Z_UproCecxa",
        "colab_type": "code",
        "outputId": "ed955d72-4d26-4d53-c6f0-ee0001d68756",
        "colab": {
          "base_uri": "https://localhost:8080/",
          "height": 195
        }
      },
      "source": [
        "# 데이터 프레임 불러오기\n",
        "df=pd.read_csv('/content/drive/My Drive/Final-project/NLP/data/10000recipe_dataframe_for_token.csv',\n",
        "                sep='\\t',\n",
        "                encoding='utf-8')\n",
        "df.head()"
      ],
      "execution_count": 0,
      "outputs": [
        {
          "output_type": "execute_result",
          "data": {
            "text/html": [
              "<div>\n",
              "<style scoped>\n",
              "    .dataframe tbody tr th:only-of-type {\n",
              "        vertical-align: middle;\n",
              "    }\n",
              "\n",
              "    .dataframe tbody tr th {\n",
              "        vertical-align: top;\n",
              "    }\n",
              "\n",
              "    .dataframe thead th {\n",
              "        text-align: right;\n",
              "    }\n",
              "</style>\n",
              "<table border=\"1\" class=\"dataframe\">\n",
              "  <thead>\n",
              "    <tr style=\"text-align: right;\">\n",
              "      <th></th>\n",
              "      <th>id</th>\n",
              "      <th>title</th>\n",
              "      <th>steps</th>\n",
              "    </tr>\n",
              "  </thead>\n",
              "  <tbody>\n",
              "    <tr>\n",
              "      <th>0</th>\n",
              "      <td>6894825</td>\n",
              "      <td>냉장고를부탁해 이연복 전복영양밥만들기 전복과 오징어새우가 들어간 볶음밥에 모닝글로리...</td>\n",
              "      <td>먼저 전복을 물에 넣고는 삶아 줍니다. 전복을 삶은 중간에 오징어와 새우를 넣어서 ...</td>\n",
              "    </tr>\n",
              "    <tr>\n",
              "      <th>1</th>\n",
              "      <td>6894824</td>\n",
              "      <td>목우촌 캠핑요리 베이컨 야채말이</td>\n",
              "      <td>준비해둔 야채를 깨끗이 씻고 깻잎은 절반 대파는 한입크기 파프리카는 채 썰어줍니다 ...</td>\n",
              "    </tr>\n",
              "    <tr>\n",
              "      <th>2</th>\n",
              "      <td>6894823</td>\n",
              "      <td>단호박라떼  전자렌지로 단호박 찌는법</td>\n",
              "      <td>단호박 찌는법 첫번째는 단호박은 반을 자르고 속안에 든 씨를 모두 제거해 줍니다. ...</td>\n",
              "    </tr>\n",
              "    <tr>\n",
              "      <th>3</th>\n",
              "      <td>6894822</td>\n",
              "      <td>풀무원 보글보글 된장찌게 끓이기</td>\n",
              "      <td>풀무원 정통된장을 냄비나 뚝배기에 물을 500ml넣고 끓여주세요.\\\\n(뒷면에 자세...</td>\n",
              "    </tr>\n",
              "    <tr>\n",
              "      <th>4</th>\n",
              "      <td>6894820</td>\n",
              "      <td>미숫가루 만들기</td>\n",
              "      <td>모든잡곡은 고두밥을 지어요 율무쌀은 가장 단단한 잡곡 이예요 불리지않고 밥하는것처럼...</td>\n",
              "    </tr>\n",
              "  </tbody>\n",
              "</table>\n",
              "</div>"
            ],
            "text/plain": [
              "        id  ...                                              steps\n",
              "0  6894825  ...  먼저 전복을 물에 넣고는 삶아 줍니다. 전복을 삶은 중간에 오징어와 새우를 넣어서 ...\n",
              "1  6894824  ...  준비해둔 야채를 깨끗이 씻고 깻잎은 절반 대파는 한입크기 파프리카는 채 썰어줍니다 ...\n",
              "2  6894823  ...  단호박 찌는법 첫번째는 단호박은 반을 자르고 속안에 든 씨를 모두 제거해 줍니다. ...\n",
              "3  6894822  ...  풀무원 정통된장을 냄비나 뚝배기에 물을 500ml넣고 끓여주세요.\\\\n(뒷면에 자세...\n",
              "4  6894820  ...  모든잡곡은 고두밥을 지어요 율무쌀은 가장 단단한 잡곡 이예요 불리지않고 밥하는것처럼...\n",
              "\n",
              "[5 rows x 3 columns]"
            ]
          },
          "metadata": {
            "tags": []
          },
          "execution_count": 21
        }
      ]
    },
    {
      "cell_type": "code",
      "metadata": {
        "id": "n0vPxuQZfTIX",
        "colab_type": "code",
        "outputId": "bb2b29f4-6d12-414d-ce96-6a3ad803a70d",
        "colab": {
          "base_uri": "https://localhost:8080/",
          "height": 34
        }
      },
      "source": [
        "df.shape"
      ],
      "execution_count": 0,
      "outputs": [
        {
          "output_type": "execute_result",
          "data": {
            "text/plain": [
              "(54738, 3)"
            ]
          },
          "metadata": {
            "tags": []
          },
          "execution_count": 22
        }
      ]
    },
    {
      "cell_type": "code",
      "metadata": {
        "id": "mYYL8zkzfVwP",
        "colab_type": "code",
        "outputId": "a9267383-7bc7-4e51-8bbd-9d20d25d983f",
        "colab": {
          "base_uri": "https://localhost:8080/",
          "height": 195
        }
      },
      "source": [
        "# 레시피 제목과 id만 추려서 데이터프레임 새로 만들기\n",
        "title_df = df[['id', 'title']]\n",
        "title_df.head()"
      ],
      "execution_count": 0,
      "outputs": [
        {
          "output_type": "execute_result",
          "data": {
            "text/html": [
              "<div>\n",
              "<style scoped>\n",
              "    .dataframe tbody tr th:only-of-type {\n",
              "        vertical-align: middle;\n",
              "    }\n",
              "\n",
              "    .dataframe tbody tr th {\n",
              "        vertical-align: top;\n",
              "    }\n",
              "\n",
              "    .dataframe thead th {\n",
              "        text-align: right;\n",
              "    }\n",
              "</style>\n",
              "<table border=\"1\" class=\"dataframe\">\n",
              "  <thead>\n",
              "    <tr style=\"text-align: right;\">\n",
              "      <th></th>\n",
              "      <th>id</th>\n",
              "      <th>title</th>\n",
              "    </tr>\n",
              "  </thead>\n",
              "  <tbody>\n",
              "    <tr>\n",
              "      <th>0</th>\n",
              "      <td>6894825</td>\n",
              "      <td>냉장고를부탁해 이연복 전복영양밥만들기 전복과 오징어새우가 들어간 볶음밥에 모닝글로리...</td>\n",
              "    </tr>\n",
              "    <tr>\n",
              "      <th>1</th>\n",
              "      <td>6894824</td>\n",
              "      <td>목우촌 캠핑요리 베이컨 야채말이</td>\n",
              "    </tr>\n",
              "    <tr>\n",
              "      <th>2</th>\n",
              "      <td>6894823</td>\n",
              "      <td>단호박라떼  전자렌지로 단호박 찌는법</td>\n",
              "    </tr>\n",
              "    <tr>\n",
              "      <th>3</th>\n",
              "      <td>6894822</td>\n",
              "      <td>풀무원 보글보글 된장찌게 끓이기</td>\n",
              "    </tr>\n",
              "    <tr>\n",
              "      <th>4</th>\n",
              "      <td>6894820</td>\n",
              "      <td>미숫가루 만들기</td>\n",
              "    </tr>\n",
              "  </tbody>\n",
              "</table>\n",
              "</div>"
            ],
            "text/plain": [
              "        id                                              title\n",
              "0  6894825  냉장고를부탁해 이연복 전복영양밥만들기 전복과 오징어새우가 들어간 볶음밥에 모닝글로리...\n",
              "1  6894824                                  목우촌 캠핑요리 베이컨 야채말이\n",
              "2  6894823                               단호박라떼  전자렌지로 단호박 찌는법\n",
              "3  6894822                                  풀무원 보글보글 된장찌게 끓이기\n",
              "4  6894820                                           미숫가루 만들기"
            ]
          },
          "metadata": {
            "tags": []
          },
          "execution_count": 23
        }
      ]
    },
    {
      "cell_type": "code",
      "metadata": {
        "id": "VOkoJ5oAfq0f",
        "colab_type": "code",
        "colab": {}
      },
      "source": [
        "# 문장을 토큰화 시킬 함수 선언\n",
        "def tokenizer_Mecab_morphs(doc):\n",
        "    return m.morphs(str(doc))\n",
        "\n",
        "def tokenizer_Mecab_noun(doc):\n",
        "    return m.nouns(str(doc))\n",
        "\n",
        "def tokenizer_Mecab_pos(doc):\n",
        "    return m.pos(str(doc), flatten=True)"
      ],
      "execution_count": 0,
      "outputs": []
    },
    {
      "cell_type": "code",
      "metadata": {
        "id": "zM1kh8rHLIpE",
        "colab_type": "code",
        "outputId": "39cbd254-3710-481a-adb2-a214531c9c25",
        "colab": {
          "base_uri": "https://localhost:8080/",
          "height": 67
        }
      },
      "source": [
        "# 함수 사용 테스트\n",
        "print(tokenizer_Mecab_morphs('더 좋은 한 끼 곤약젤리'))\n",
        "print(tokenizer_Mecab_noun('더 좋은 한 끼 곤약젤리'))\n",
        "print(tokenizer_Mecab_pos('더 좋은 한 끼 곤약젤리'))"
      ],
      "execution_count": 0,
      "outputs": [
        {
          "output_type": "stream",
          "text": [
            "['더', '좋', '은', '한', '끼', '곤약', '젤리']\n",
            "['끼', '곤약', '젤리']\n",
            "[('더', 'MAG'), ('좋', 'VA'), ('은', 'ETM'), ('한', 'MM'), ('끼', 'NNBC'), ('곤약', 'NNG'), ('젤리', 'NNG')]\n"
          ],
          "name": "stdout"
        }
      ]
    },
    {
      "cell_type": "code",
      "metadata": {
        "id": "qJdAqI_rf1AI",
        "colab_type": "code",
        "colab": {}
      },
      "source": [
        "# title 컬럼을 토큰화시켜서 새로운 컬럼('token_title') 생성\n",
        "title_df['token_title']=title_df['title'].apply(tokenizer_Mecab_morphs)"
      ],
      "execution_count": 0,
      "outputs": []
    },
    {
      "cell_type": "code",
      "metadata": {
        "id": "5SZ2PMzULxX3",
        "colab_type": "code",
        "outputId": "61e9baff-d4cb-4084-b9f3-2348656aeac3",
        "colab": {
          "base_uri": "https://localhost:8080/",
          "height": 195
        }
      },
      "source": [
        "title_df.head()"
      ],
      "execution_count": 0,
      "outputs": [
        {
          "output_type": "execute_result",
          "data": {
            "text/html": [
              "<div>\n",
              "<style scoped>\n",
              "    .dataframe tbody tr th:only-of-type {\n",
              "        vertical-align: middle;\n",
              "    }\n",
              "\n",
              "    .dataframe tbody tr th {\n",
              "        vertical-align: top;\n",
              "    }\n",
              "\n",
              "    .dataframe thead th {\n",
              "        text-align: right;\n",
              "    }\n",
              "</style>\n",
              "<table border=\"1\" class=\"dataframe\">\n",
              "  <thead>\n",
              "    <tr style=\"text-align: right;\">\n",
              "      <th></th>\n",
              "      <th>id</th>\n",
              "      <th>title</th>\n",
              "      <th>token_title</th>\n",
              "    </tr>\n",
              "  </thead>\n",
              "  <tbody>\n",
              "    <tr>\n",
              "      <th>0</th>\n",
              "      <td>6894825</td>\n",
              "      <td>냉장고를부탁해 이연복 전복영양밥만들기 전복과 오징어새우가 들어간 볶음밥에 모닝글로리...</td>\n",
              "      <td>[냉장고, 를, 부탁, 해, 이연복, 전복, 영양, 밥, 만들, 기, 전복, 과, ...</td>\n",
              "    </tr>\n",
              "    <tr>\n",
              "      <th>1</th>\n",
              "      <td>6894824</td>\n",
              "      <td>목우촌 캠핑요리 베이컨 야채말이</td>\n",
              "      <td>[목, 우촌, 캠핑, 요리, 베이컨, 야채, 말, 이]</td>\n",
              "    </tr>\n",
              "    <tr>\n",
              "      <th>2</th>\n",
              "      <td>6894823</td>\n",
              "      <td>단호박라떼  전자렌지로 단호박 찌는법</td>\n",
              "      <td>[단호박, 라떼, 전자, 렌지, 로, 단호박, 찌, 는, 법]</td>\n",
              "    </tr>\n",
              "    <tr>\n",
              "      <th>3</th>\n",
              "      <td>6894822</td>\n",
              "      <td>풀무원 보글보글 된장찌게 끓이기</td>\n",
              "      <td>[풀무원, 보글보글, 된장, 찌, 게, 끓이, 기]</td>\n",
              "    </tr>\n",
              "    <tr>\n",
              "      <th>4</th>\n",
              "      <td>6894820</td>\n",
              "      <td>미숫가루 만들기</td>\n",
              "      <td>[미숫가루, 만들, 기]</td>\n",
              "    </tr>\n",
              "  </tbody>\n",
              "</table>\n",
              "</div>"
            ],
            "text/plain": [
              "        id  ...                                        token_title\n",
              "0  6894825  ...  [냉장고, 를, 부탁, 해, 이연복, 전복, 영양, 밥, 만들, 기, 전복, 과, ...\n",
              "1  6894824  ...                     [목, 우촌, 캠핑, 요리, 베이컨, 야채, 말, 이]\n",
              "2  6894823  ...                 [단호박, 라떼, 전자, 렌지, 로, 단호박, 찌, 는, 법]\n",
              "3  6894822  ...                       [풀무원, 보글보글, 된장, 찌, 게, 끓이, 기]\n",
              "4  6894820  ...                                      [미숫가루, 만들, 기]\n",
              "\n",
              "[5 rows x 3 columns]"
            ]
          },
          "metadata": {
            "tags": []
          },
          "execution_count": 31
        }
      ]
    },
    {
      "cell_type": "markdown",
      "metadata": {
        "id": "8K2m-V1nMezi",
        "colab_type": "text"
      },
      "source": [
        "## Doc2vec 모델 학습시키기"
      ]
    },
    {
      "cell_type": "code",
      "metadata": {
        "id": "-QE4Akz5gHrL",
        "colab_type": "code",
        "colab": {}
      },
      "source": [
        "# Doc2vec 입력 형식에 맞게 데이터 수정\n",
        "# tags = 문서 ID\n",
        "# words = 단어 list\n",
        "title_doc_df = title_df[['id', 'token_title']].values.tolist()\n",
        "tagged_data = [TaggedDocument(words=_d, tags=[uid]) for uid, _d in title_doc_df]"
      ],
      "execution_count": 0,
      "outputs": []
    },
    {
      "cell_type": "code",
      "metadata": {
        "id": "b8Qrpnm_Mh8v",
        "colab_type": "code",
        "outputId": "65302342-90c4-4e39-ce78-f3ebb6322bf7",
        "colab": {
          "base_uri": "https://localhost:8080/",
          "height": 202
        }
      },
      "source": [
        "# Training\n",
        "max_epochs=10\n",
        "\n",
        "model=Doc2Vec(window=10,\n",
        "             vector_size=150,\n",
        "             alpha=0.025,\n",
        "             min_alpha=0.025,\n",
        "             min_count=2,\n",
        "             dm = 1,\n",
        "             negative = 5,\n",
        "             seed=9999)\n",
        "\n",
        "model.build_vocab(tagged_data)\n",
        "for epoch in range(max_epochs):\n",
        "    print('iteration {0}'.format(epoch))\n",
        "    model.train(tagged_data,\n",
        "               total_examples=model.corpus_count,\n",
        "               epochs=model.iter)\n",
        "    # decrease the learning rate\n",
        "    model.alpha -= 0.002\n",
        "    model.min_alpha = model.alpha"
      ],
      "execution_count": 0,
      "outputs": [
        {
          "output_type": "stream",
          "text": [
            "iteration 0\n"
          ],
          "name": "stdout"
        },
        {
          "output_type": "stream",
          "text": [
            "/usr/local/lib/python3.6/dist-packages/ipykernel_launcher.py:17: DeprecationWarning: Call to deprecated `iter` (Attribute will be removed in 4.0.0, use self.epochs instead).\n"
          ],
          "name": "stderr"
        },
        {
          "output_type": "stream",
          "text": [
            "iteration 1\n",
            "iteration 2\n",
            "iteration 3\n",
            "iteration 4\n",
            "iteration 5\n",
            "iteration 6\n",
            "iteration 7\n",
            "iteration 8\n",
            "iteration 9\n"
          ],
          "name": "stdout"
        }
      ]
    },
    {
      "cell_type": "code",
      "metadata": {
        "id": "GbVzIJUuXDCg",
        "colab_type": "code",
        "outputId": "7ab8c1b0-32d6-4870-e905-a48df007043a",
        "colab": {
          "base_uri": "https://localhost:8080/",
          "height": 70
        }
      },
      "source": [
        "# 모델 저장하기\n",
        "from gensim.test.utils import get_tmpfile\n",
        "\n",
        "temp_path = get_tmpfile('title_doc2vec_0325.pkl')\n",
        "DOC2VEC_DRIVE_PATH = '/content/drive/My Drive/Final-project/NLP/model/'\n",
        "model.save(os.path.join(DOC2VEC_DRIVE_PATH, \"title_doc2vec_0325.pkl\"))"
      ],
      "execution_count": 0,
      "outputs": [
        {
          "output_type": "stream",
          "text": [
            "/usr/local/lib/python3.6/dist-packages/smart_open/smart_open_lib.py:410: UserWarning: This function is deprecated, use smart_open.open instead. See the migration notes for details: https://github.com/RaRe-Technologies/smart_open/blob/master/README.rst#migrating-to-the-new-open-function\n",
            "  'See the migration notes for details: %s' % _MIGRATION_NOTES_URL\n"
          ],
          "name": "stderr"
        }
      ]
    },
    {
      "cell_type": "code",
      "metadata": {
        "id": "yHqtsctiYWUB",
        "colab_type": "code",
        "colab": {}
      },
      "source": [
        "# temp 파일 삭제\n",
        "model.delete_temporary_training_data(keep_doctags_vectors=True, keep_inference=True)"
      ],
      "execution_count": 0,
      "outputs": []
    },
    {
      "cell_type": "markdown",
      "metadata": {
        "id": "n-fzkiYpa15w",
        "colab_type": "text"
      },
      "source": [
        "## 문장 유사도 확인하기"
      ]
    },
    {
      "cell_type": "code",
      "metadata": {
        "id": "g8QV9osSa-V-",
        "colab_type": "code",
        "outputId": "483060ae-df19-4246-c8b8-4755ab8e956d",
        "colab": {
          "base_uri": "https://localhost:8080/",
          "height": 70
        }
      },
      "source": [
        "# model load\n",
        "DOC2VEC_MODEL_PATH = os.path.join(DOC2VEC_DRIVE_PATH, \"title_doc2vec_0325.pkl\")\n",
        "model = Doc2Vec.load(DOC2VEC_MODEL_PATH)"
      ],
      "execution_count": 0,
      "outputs": [
        {
          "output_type": "stream",
          "text": [
            "/usr/local/lib/python3.6/dist-packages/smart_open/smart_open_lib.py:410: UserWarning: This function is deprecated, use smart_open.open instead. See the migration notes for details: https://github.com/RaRe-Technologies/smart_open/blob/master/README.rst#migrating-to-the-new-open-function\n",
            "  'See the migration notes for details: %s' % _MIGRATION_NOTES_URL\n"
          ],
          "name": "stderr"
        }
      ]
    },
    {
      "cell_type": "code",
      "metadata": {
        "id": "t3gDUWcrbnuG",
        "colab_type": "code",
        "outputId": "94c145e8-ddd8-44e0-f6d3-6f93b15ecd18",
        "colab": {
          "base_uri": "https://localhost:8080/",
          "height": 406
        }
      },
      "source": [
        "# 새로운 문장을 넣어 유사도 확인하기\n",
        "model.random.seed(8000)\n",
        "\n",
        "example_list = '참치 김치찌개'.split(' ')\n",
        "\n",
        "inferred_vector = model.infer_vector(example_list)\n",
        "return_docs = model.docvecs.most_similar(positive=[inferred_vector],topn=20)\n",
        "for rd in return_docs:\n",
        "  for des in title_df[title_df['id'] == rd[0]]['title']:\n",
        "    print(rd[0], rd[1], des)"
      ],
      "execution_count": 0,
      "outputs": [
        {
          "output_type": "stream",
          "text": [
            "/usr/local/lib/python3.6/dist-packages/gensim/matutils.py:737: FutureWarning: Conversion of the second argument of issubdtype from `int` to `np.signedinteger` is deprecated. In future, it will be treated as `np.int64 == np.dtype(int).type`.\n",
            "  if np.issubdtype(vec.dtype, np.int):\n"
          ],
          "name": "stderr"
        },
        {
          "output_type": "stream",
          "text": [
            "6928007 0.7900514006614685 100 통밀쿠키 만들기\n",
            "6918472 0.7760583758354187 ♥신혼밥상 홈메이드 칼로리바\n",
            "6911922 0.7713984847068787 가족모임요리 우렁된장찌개\n",
            "6757123 0.7628169059753418 두릅 데치기\n",
            "6879682 0.7613463997840881 얼그레이 파운드 케이크\n",
            "6870471 0.7543428540229797 도다리쑥국 맛있는 도다리쑥국 끓이는 법\n",
            "6871605 0.7488991618156433 호떡믹스로 공갈빵 만들기\n",
            "6878198 0.7476012110710144 노생크림 까르보나라 만들기\n",
            "6915758 0.7470545768737793 노버터 생크림 파운드케익\n",
            "6885690 0.7466774582862854 콩나물밥 슥슥 비벼먹는 한그릇음식\n",
            "6916208 0.7443692088127136 ♥신혼밥상 닭가슴살 유린기\n",
            "6857927 0.7441118955612183 폭탄계란찜 달걀찜 만들기\n",
            "6918027 0.7425355911254883 암예방레시피 묵은지콩비지찌개\n",
            "6897323 0.7418239712715149 서리태 콩자반\n",
            "6834621 0.741104781627655 토란국 끓이는 법\n",
            "6847864 0.7376580238342285 백선생표 프렌치 토스트\n",
            "6925432 0.7364944815635681 소세지꼬치  소떡소떡 만들기\n",
            "6927076 0.7355220913887024 크래미 계란말이\n",
            "6853025 0.7350984811782837 호박식혜만들기 단호박식혜\n",
            "4441836 0.7344920039176941 오징어먹물크림파스타\n"
          ],
          "name": "stdout"
        }
      ]
    },
    {
      "cell_type": "code",
      "metadata": {
        "id": "KLh8VTMocaqU",
        "colab_type": "code",
        "outputId": "6ad9133b-02f5-4f52-8362-c6151ee8f0ad",
        "colab": {
          "base_uri": "https://localhost:8080/",
          "height": 440
        }
      },
      "source": [
        "# 단어로 유사도 확인해보기\n",
        "model.most_similar('김치',topn=20)"
      ],
      "execution_count": 0,
      "outputs": [
        {
          "output_type": "stream",
          "text": [
            "/usr/local/lib/python3.6/dist-packages/ipykernel_launcher.py:1: DeprecationWarning: Call to deprecated `most_similar` (Method will be removed in 4.0.0, use self.wv.most_similar() instead).\n",
            "  \"\"\"Entry point for launching an IPython kernel.\n",
            "/usr/local/lib/python3.6/dist-packages/gensim/matutils.py:737: FutureWarning: Conversion of the second argument of issubdtype from `int` to `np.signedinteger` is deprecated. In future, it will be treated as `np.int64 == np.dtype(int).type`.\n",
            "  if np.issubdtype(vec.dtype, np.int):\n"
          ],
          "name": "stderr"
        },
        {
          "output_type": "execute_result",
          "data": {
            "text/plain": [
              "[('파김치', 0.5638792514801025),\n",
              " ('열무김치', 0.5317940711975098),\n",
              " ('겉절이', 0.5102351307868958),\n",
              " ('깍두기', 0.49384286999702454),\n",
              " ('무생채', 0.48973560333251953),\n",
              " ('어묵', 0.47553691267967224),\n",
              " ('김치찌개', 0.467621386051178),\n",
              " ('갓김치', 0.46203505992889404),\n",
              " ('김장', 0.4584785997867584),\n",
              " ('카레', 0.4547005295753479),\n",
              " ('두부김치', 0.45323556661605835),\n",
              " ('김치볶음밥', 0.4419439733028412),\n",
              " ('배추김치', 0.44108328223228455),\n",
              " ('콩나물', 0.4394105076789856),\n",
              " ('백김치', 0.4384535551071167),\n",
              " ('열무', 0.4379288852214813),\n",
              " ('배', 0.4246397018432617),\n",
              " ('오이소박이', 0.42393097281455994),\n",
              " ('라면', 0.41968291997909546),\n",
              " ('오징어', 0.41711878776550293)]"
            ]
          },
          "metadata": {
            "tags": []
          },
          "execution_count": 46
        }
      ]
    },
    {
      "cell_type": "markdown",
      "metadata": {
        "id": "P6lNpbiVc6Qf",
        "colab_type": "text"
      },
      "source": [
        "## 결과\n",
        "\n",
        "- 단어를 넣어 유사도를 확인한 경우에는 유사 단어가 잘 나오지만 문장을 넣었을 경우에는 원하는 결과 값이 잘 나오지 않는 것을 확인하였음\n",
        "- 문장을 토큰화 한 후 불용어 제거를 하지 않고 모델에 학습시켰더니 결과가 좋지 않은 것으로 보인다\n",
        "- 불용어 제거를 한 후 모델의 성능을 확인 해봐야 겠다."
      ]
    }
  ]
}